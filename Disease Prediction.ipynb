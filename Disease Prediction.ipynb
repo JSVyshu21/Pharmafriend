{
 "cells": [
  {
   "cell_type": "code",
   "execution_count": 1,
   "id": "91f691957698021b",
   "metadata": {
    "ExecuteTime": {
     "end_time": "2024-06-30T16:04:00.506247Z",
     "start_time": "2024-06-30T16:04:00.068871Z"
    }
   },
   "outputs": [],
   "source": [
    "import pandas as pd\n",
    "import numpy as np\n",
    "import ast\n",
    "import warnings\n",
    "warnings.filterwarnings(\"ignore\")"
   ]
  },
  {
   "cell_type": "code",
   "execution_count": 2,
   "id": "initial_id",
   "metadata": {
    "ExecuteTime": {
     "end_time": "2024-06-30T16:04:00.530848Z",
     "start_time": "2024-06-30T16:04:00.506247Z"
    },
    "collapsed": true
   },
   "outputs": [],
   "source": [
    "# loading the dataset here\n",
    "symptom_data = pd.read_csv(\"..\\\\Data\\\\symptoms_df.csv\")\n",
    "precautions_data = pd.read_csv(\"..\\\\Data\\\\precautions_df.csv\")\n",
    "workout_data = pd.read_csv(\"..\\\\Data\\\\workout_df.csv\")\n",
    "desc_data = pd.read_csv(\"..\\\\Data\\\\description.csv\")\n",
    "diets_data = pd.read_csv(\"..\\\\Data\\\\diets.csv\")\n",
    "medication_data = pd.read_csv(\"..\\\\Data\\\\medications.csv\")"
   ]
  },
  {
   "cell_type": "code",
   "execution_count": 3,
   "id": "a9c06f06f5537825",
   "metadata": {
    "ExecuteTime": {
     "end_time": "2024-06-30T16:04:00.544825Z",
     "start_time": "2024-06-30T16:04:00.530848Z"
    }
   },
   "outputs": [],
   "source": [
    "symptom_data.head()"
   ]
  },
  {
   "cell_type": "code",
   "execution_count": 4,
   "id": "b51557a24069981",
   "metadata": {
    "ExecuteTime": {
     "end_time": "2024-06-30T16:04:00.553651Z",
     "start_time": "2024-06-30T16:04:00.544825Z"
    }
   },
   "outputs": [],
   "source": [
    "precautions_data.head()"
   ]
  },
  {
   "cell_type": "code",
   "execution_count": 5,
   "id": "5e2201d8a6a2f5db",
   "metadata": {
    "ExecuteTime": {
     "end_time": "2024-06-30T16:04:00.561140Z",
     "start_time": "2024-06-30T16:04:00.553651Z"
    }
   },
   "outputs": [],
   "source": [
    "workout_data.head()"
   ]
  },
  {
   "cell_type": "code",
   "execution_count": 6,
   "id": "6732c0a1ad4442e3",
   "metadata": {
    "ExecuteTime": {
     "end_time": "2024-06-30T16:04:00.569095Z",
     "start_time": "2024-06-30T16:04:00.561140Z"
    }
   },
   "outputs": [],
   "source": [
    "desc_data.head()"
   ]
  },
  {
   "cell_type": "code",
   "execution_count": 7,
   "id": "e094315922a632e6",
   "metadata": {
    "ExecuteTime": {
     "end_time": "2024-06-30T16:04:00.577107Z",
     "start_time": "2024-06-30T16:04:00.569095Z"
    }
   },
   "outputs": [],
   "source": [
    "diets_data.head()"
   ]
  },
  {
   "cell_type": "code",
   "execution_count": 8,
   "id": "19dad9471a28503e",
   "metadata": {
    "ExecuteTime": {
     "end_time": "2024-06-30T16:04:00.584850Z",
     "start_time": "2024-06-30T16:04:00.577107Z"
    }
   },
   "outputs": [],
   "source": [
    "medication_data.head()"
   ]
  },
  {
   "cell_type": "code",
   "execution_count": 9,
   "id": "3d3812e88d9e8559",
   "metadata": {
    "ExecuteTime": {
     "end_time": "2024-06-30T16:04:00.593072Z",
     "start_time": "2024-06-30T16:04:00.584850Z"
    }
   },
   "outputs": [],
   "source": [
    "symptoms_dict = {\n",
    "    'itching': 0,\n",
    "    'skin_rash': 1,\n",
    "    'nodal_skin_eruptions': 2,\n",
    "    'continuous_sneezing': 3,\n",
    "    'shivering': 4,\n",
    "    'chills': 5,\n",
    "    'joint_pain': 6,\n",
    "    'stomach_pain': 7,\n",
    "    'acidity': 8,\n",
    "    'ulcers_on_tongue': 9,\n",
    "    'muscle_wasting': 10,\n",
    "    'vomiting': 11,\n",
    "    'burning_micturition': 12,\n",
    "    'spotting_urination': 13,\n",
    "    'fatigue': 14,\n",
    "    'weight_gain': 15,\n",
    "    'anxiety': 16,\n",
    "    'cold_hands_and_feets': 17,\n",
    "    'mood_swings': 18,\n",
    "    'weight_loss': 19,\n",
    "    'restlessness': 20,\n",
    "    'lethargy': 21,\n",
    "    'patches_in_throat': 22,\n",
    "    'irregular_sugar_level': 23,\n",
    "    'cough': 24,\n",
    "    'high_fever': 25,\n",
    "    'sunken_eyes': 26,\n",
    "    'breathlessness': 27,\n",
    "    'sweating': 28,\n",
    "    'dehydration': 29,\n",
    "    'indigestion': 30,\n",
    "    'headache': 31,\n",
    "    'yellowish_skin': 32,\n",
    "    'dark_urine': 33,\n",
    "    'nausea': 34,\n",
    "    'loss_of_appetite': 35,\n",
    "    'pain_behind_the_eyes': 36,\n",
    "    'back_pain': 37,\n",
    "    'constipation': 38,\n",
    "    'abdominal_pain': 39,\n",
    "    'diarrhoea': 40,\n",
    "    'mild_fever': 41,\n",
    "    'yellow_urine': 42,\n",
    "    'yellowing_of_eyes': 43,\n",
    "    'acute_liver_failure': 44,\n",
    "    'fluid_overload': 45,\n",
    "    'swelling_of_stomach': 46,\n",
    "    'swelled_lymph_nodes': 47,\n",
    "    'malaise': 48,\n",
    "    'blurred_and_distorted_vision': 49,\n",
    "    'phlegm': 50,\n",
    "    'throat_irritation': 51,\n",
    "    'redness_of_eyes': 52,\n",
    "    'sinus_pressure': 53,\n",
    "    'runny_nose': 54,\n",
    "    'congestion': 55,\n",
    "    'chest_pain': 56,\n",
    "    'weakness_in_limbs': 57,\n",
    "    'fast_heart_rate': 58,\n",
    "    'pain_during_bowel_movements': 59,\n",
    "    'pain_in_anal_region': 60,\n",
    "    'bloody_stool': 61,\n",
    "    'irritation_in_anus': 62,\n",
    "    'neck_pain': 63,\n",
    "    'dizziness': 64,\n",
    "    'cramps': 65,\n",
    "    'bruising': 66,\n",
    "    'obesity': 67,\n",
    "    'swollen_legs': 68,\n",
    "    'swollen_blood_vessels': 69,\n",
    "    'puffy_face_and_eyes': 70,\n",
    "    'enlarged_thyroid': 71,\n",
    "    'brittle_nails': 72,\n",
    "    'swollen_extremeties': 73,\n",
    "    'excessive_hunger': 74,\n",
    "    'extra_marital_contacts': 75,\n",
    "    'drying_and_tingling_lips': 76,\n",
    "    'slurred_speech': 77,\n",
    "    'knee_pain': 78,\n",
    "    'hip_joint_pain': 79,\n",
    "    'muscle_weakness': 80,\n",
    "    'stiff_neck': 81,\n",
    "    'swelling_joints': 82,\n",
    "    'movement_stiffness': 83,\n",
    "    'spinning_movements': 84,\n",
    "    'loss_of_balance': 85,\n",
    "    'unsteadiness': 86,\n",
    "    'weakness_of_one_body_side': 87,\n",
    "    'loss_of_smell': 88,\n",
    "    'bladder_discomfort': 89,\n",
    "    'foul_smell_of_urine': 90,\n",
    "    'continuous_feel_of_urine': 91,\n",
    "    'passage_of_gases': 92,\n",
    "    'internal_itching': 93,\n",
    "    'toxic_look_(typhos)': 94,\n",
    "    'depression': 95,\n",
    "    'irritability': 96,\n",
    "    'muscle_pain': 97,\n",
    "    'altered_sensorium': 98,\n",
    "    'red_spots_over_body': 99,\n",
    "    'belly_pain': 100,\n",
    "    'abnormal_menstruation': 101,\n",
    "    'dischromic_patches': 102,\n",
    "    'watering_from_eyes': 103,\n",
    "    'increased_appetite': 104,\n",
    "    'polyuria': 105,\n",
    "    'family_history': 106,\n",
    "    'mucoid_sputum': 107,\n",
    "    'rusty_sputum': 108,\n",
    "    'lack_of_concentration': 109,\n",
    "    'visual_disturbances': 110,\n",
    "    'receiving_blood_transfusion': 111,\n",
    "    'receiving_unsterile_injections': 112,\n",
    "    'coma': 113,\n",
    "    'stomach_bleeding': 114,\n",
    "    'distention_of_abdomen': 115,\n",
    "    'history_of_alcohol_consumption': 116,\n",
    "    'fluid_overload.1': 117,\n",
    "    'blood_in_sputum': 118,\n",
    "    'prominent_veins_on_calf': 119,\n",
    "    'palpitations': 120,\n",
    "    'painful_walking': 121,\n",
    "    'pus_filled_pimples': 122,\n",
    "    'blackheads': 123,\n",
    "    'scurring': 124,\n",
    "    'skin_peeling': 125,\n",
    "    'silver_like_dusting': 126,\n",
    "    'small_dents_in_nails': 127,\n",
    "    'inflammatory_nails': 128,\n",
    "    'blister': 129,\n",
    "    'red_sore_around_nose': 130,\n",
    "    'yellow_crust_ooze': 131\n",
    "}"
   ]
  },
  {
   "cell_type": "code",
   "execution_count": 10,
   "id": "4d20e19355a1e8da",
   "metadata": {
    "ExecuteTime": {
     "end_time": "2024-06-30T16:04:00.599317Z",
     "start_time": "2024-06-30T16:04:00.593072Z"
    }
   },
   "outputs": [],
   "source": [
    "diseases_list = {\n",
    "    15: 'Fungal infection',\n",
    "    4: 'Allergy',\n",
    "    16: 'GERD',\n",
    "    9: 'Chronic cholesterol',\n",
    "    14: 'Drug Reaction',\n",
    "    33: 'Peptic ulcer disease',\n",
    "    1: 'AIDS',\n",
    "    12: 'Diabetes',\n",
    "    17: 'Gastroenteritis',\n",
    "    6: 'Bronchial Asthma',\n",
    "    23: 'Hypertension',\n",
    "    30: 'Migraine',\n",
    "    7: 'Cervical spondylosis',\n",
    "    32: 'Paralysis (brain hemorrhage)',\n",
    "    28: 'Jaundice',\n",
    "    29: 'Malaria',\n",
    "    8: 'Chicken pox',\n",
    "    11: 'Dengue',\n",
    "    37: 'Typhoid',\n",
    "    40: 'Hepatitis A',\n",
    "    19: 'Hepatitis B',\n",
    "    20: 'Hepatitis C',\n",
    "    21: 'Hepatitis D',\n",
    "    22: 'Hepatitis E',\n",
    "    3: 'Alcoholic hepatitis',\n",
    "    36: 'Tuberculosis',\n",
    "    10: 'Common Cold',\n",
    "    34: 'Pneumonia',\n",
    "    13: 'Dimorphic hemorrhoids (piles)',\n",
    "    18: 'Heart attack',\n",
    "    39: 'Varicose veins',\n",
    "    26: 'Hypothyroidism',\n",
    "    24: 'Hyperthyroidism',\n",
    "    25: 'Hypoglycemia',\n",
    "    31: 'Osteoarthritis',\n",
    "    5: 'Arthritis',\n",
    "    0: '(vertigo) Paroxysmal Positional Vertigo',\n",
    "    2: 'Acne',\n",
    "    38: 'Urinary tract infection',\n",
    "    35: 'Psoriasis',\n",
    "    27: 'Impetigo'\n",
    "}"
   ]
  },
  {
   "cell_type": "markdown",
   "id": "494eaa9c0293811",
   "metadata": {},
   "source": [
    "### _Loading the Saved Model here to predict diseases_"
   ]
  },
  {
   "cell_type": "code",
   "execution_count": 11,
   "id": "738769766a9cf4e5",
   "metadata": {
    "ExecuteTime": {
     "end_time": "2024-06-30T16:04:01.299313Z",
     "start_time": "2024-06-30T16:04:00.599317Z"
    }
   },
   "outputs": [],
   "source": [
    "import pickle\n",
    "model = pickle.load(open('..\\\\Model\\\\model.pkl', 'rb'))"
   ]
  },
  {
   "cell_type": "code",
   "execution_count": 12,
   "id": "84b3b1ed477ce766",
   "metadata": {
    "ExecuteTime": {
     "end_time": "2024-06-30T16:04:01.304098Z",
     "start_time": "2024-06-30T16:04:01.299313Z"
    }
   },
   "outputs": [],
   "source": [
    "def get_predicted_values(patient_symptoms):\n",
    "    input_vector = np.zeros(len(symptoms_dict))\n",
    "    for symptom in patient_symptoms:\n",
    "        # making the index value 1 for that respective disease.\n",
    "        input_vector[symptoms_dict[symptom]] = 1\n",
    "    return diseases_list[model.predict([input_vector])[0]]"
   ]
  },
  {
   "cell_type": "code",
   "execution_count": 13,
   "id": "71ba1912708cf745",
   "metadata": {
    "ExecuteTime": {
     "end_time": "2024-06-30T16:04:01.308802Z",
     "start_time": "2024-06-30T16:04:01.304098Z"
    }
   },
   "outputs": [],
   "source": [
    "# user input for the symptoms\n",
    "def get_user_input():\n",
    "    user_symptoms = [s.strip() for s in input(\"Enter the patient symptoms: \").split(\",\")]\n",
    "    return user_symptoms"
   ]
  },
  {
   "cell_type": "code",
   "execution_count": 14,
   "id": "b3737b5917a46ef5",
   "metadata": {
    "ExecuteTime": {
     "end_time": "2024-06-30T16:04:20.123197Z",
     "start_time": "2024-06-30T16:04:01.308802Z"
    }
   },
   "outputs": [],
   "source": [
    "# test - 1\n",
    "symptoms = get_user_input()\n",
    "print(f\"Predicted Disease based on the \\nsymptoms {symptoms} : {get_predicted_values(symptoms)}\")"
   ]
  },
  {
   "cell_type": "code",
   "execution_count": 15,
   "id": "47514b939d0d5680",
   "metadata": {
    "ExecuteTime": {
     "end_time": "2024-06-30T16:04:21.333692Z",
     "start_time": "2024-06-30T16:04:20.123197Z"
    }
   },
   "outputs": [],
   "source": [
    "# test - 2\n",
    "symptoms = get_user_input()\n",
    "predicted_disease = get_predicted_values(symptoms)\n",
    "print(f\"Predicted Disease based on the \\nsymptoms {symptoms} : {predicted_disease}\")"
   ]
  },
  {
   "cell_type": "markdown",
   "id": "118e6f265699e39f",
   "metadata": {},
   "source": [
    "### _Finding the Disease Description based on the predicted disease_"
   ]
  },
  {
   "cell_type": "code",
   "execution_count": 16,
   "id": "662b30f27abc9752",
   "metadata": {
    "ExecuteTime": {
     "end_time": "2024-06-30T16:04:21.341772Z",
     "start_time": "2024-06-30T16:04:21.334894Z"
    }
   },
   "outputs": [],
   "source": [
    "# filtering the dataset to get the desc for the predicted disease.\n",
    "predicted_desc = desc_data[desc_data['Disease'] == predicted_disease]\n",
    "predicted_desc"
   ]
  },
  {
   "cell_type": "code",
   "execution_count": 17,
   "id": "c66dfde6cccd8ec7",
   "metadata": {
    "ExecuteTime": {
     "end_time": "2024-06-30T16:04:21.348775Z",
     "start_time": "2024-06-30T16:04:21.342389Z"
    }
   },
   "outputs": [],
   "source": [
    "predicted_desc['Description'].values[0]"
   ]
  },
  {
   "cell_type": "markdown",
   "id": "9224c55090a51bfb",
   "metadata": {},
   "source": [
    "### _Finding the Corresponding predicted Disease precautions_"
   ]
  },
  {
   "cell_type": "code",
   "execution_count": 18,
   "id": "fa861991cdd7e4ef",
   "metadata": {
    "ExecuteTime": {
     "end_time": "2024-06-30T16:04:21.358932Z",
     "start_time": "2024-06-30T16:04:21.348775Z"
    }
   },
   "outputs": [],
   "source": [
    "predicted_prec = precautions_data[precautions_data['Disease'] == predicted_disease]\n",
    "predicted_prec"
   ]
  },
  {
   "cell_type": "code",
   "execution_count": 19,
   "id": "9b848ed53d4fa0",
   "metadata": {
    "ExecuteTime": {
     "end_time": "2024-06-30T16:04:21.368899Z",
     "start_time": "2024-06-30T16:04:21.358932Z"
    }
   },
   "outputs": [],
   "source": [
    "precautions = predicted_prec[['Precaution_1', 'Precaution_2', 'Precaution_3', 'Precaution_4']]\n",
    "precautions"
   ]
  },
  {
   "cell_type": "code",
   "execution_count": 20,
   "id": "ad24a1cf9434c474",
   "metadata": {
    "ExecuteTime": {
     "end_time": "2024-06-30T16:04:21.373637Z",
     "start_time": "2024-06-30T16:04:21.368899Z"
    }
   },
   "outputs": [],
   "source": [
    "prec_list = [col for col in precautions.values]\n",
    "for i in range(len(prec_list[0])):\n",
    "    print(prec_list[0][i])"
   ]
  },
  {
   "cell_type": "code",
   "execution_count": 21,
   "id": "f0b106288ecec3b6",
   "metadata": {
    "ExecuteTime": {
     "end_time": "2024-06-30T16:04:21.377593Z",
     "start_time": "2024-06-30T16:04:21.373637Z"
    }
   },
   "outputs": [],
   "source": [
    "def get_desc(predicted_value):\n",
    "    predicted_description = desc_data[desc_data[\"Disease\"] == predicted_value][\"Description\"].values[0]\n",
    "    return predicted_description"
   ]
  },
  {
   "cell_type": "code",
   "execution_count": 22,
   "id": "3a1b989096c4df0c",
   "metadata": {
    "ExecuteTime": {
     "end_time": "2024-06-30T16:04:21.382834Z",
     "start_time": "2024-06-30T16:04:21.377593Z"
    }
   },
   "outputs": [],
   "source": [
    "# Replace 'nan' string and np.nan with None for consistency\n",
    "precautions_data.replace('nan', None, inplace=True)\n",
    "precautions_data = precautions_data.where(pd.notnull(precautions_data), None)"
   ]
  },
  {
   "cell_type": "code",
   "execution_count": 23,
   "id": "b2e9dfb639ccc4a3",
   "metadata": {
    "ExecuteTime": {
     "end_time": "2024-06-30T16:04:21.388586Z",
     "start_time": "2024-06-30T16:04:21.382834Z"
    }
   },
   "outputs": [],
   "source": [
    "def get_precautions(predicted_value):\n",
    "    predicted_precaution = precautions_data[precautions_data['Disease'] == predicted_value].values[0][2:]\n",
    "    return predicted_precaution\n",
    "\n",
    "s1 = \"Fungal infection\" # no nan value.\n",
    "s2 = \"Allergy\" # 1 nan value needs to be handled.\n",
    "p = get_precautions(s2)\n",
    "count = 1\n",
    "for i in range(len(p)):\n",
    "    if p[i] is not None:\n",
    "        print(f\"{count}. {p[i].title()}\")\n",
    "        count += 1"
   ]
  },
  {
   "cell_type": "code",
   "execution_count": 24,
   "id": "f1bf6dad35d0a7ea",
   "metadata": {
    "ExecuteTime": {
     "end_time": "2024-06-30T16:04:21.392637Z",
     "start_time": "2024-06-30T16:04:21.388586Z"
    }
   },
   "outputs": [],
   "source": [
    "def get_medication(predicted_value):\n",
    "    med = medication_data[medication_data['Disease'] == predicted_value]['Medication'].values[0]\n",
    "    return ast.literal_eval(med)"
   ]
  },
  {
   "cell_type": "code",
   "execution_count": 25,
   "id": "7b8fa2cfc2622299",
   "metadata": {
    "ExecuteTime": {
     "end_time": "2024-06-30T16:04:21.396649Z",
     "start_time": "2024-06-30T16:04:21.392637Z"
    }
   },
   "outputs": [],
   "source": [
    "def get_workout(predicted_value):\n",
    "    work = workout_data[workout_data['disease'] == predicted_value][\"workout\"].values\n",
    "    return work"
   ]
  },
  {
   "cell_type": "code",
   "execution_count": 26,
   "id": "ab34504d641656ae",
   "metadata": {
    "ExecuteTime": {
     "end_time": "2024-06-30T16:04:21.401329Z",
     "start_time": "2024-06-30T16:04:21.396649Z"
    }
   },
   "outputs": [],
   "source": [
    "def get_diet(predicted_value):\n",
    "    diet = diets_data[diets_data['Disease'] == predicted_value]['Diet'].values[0]\n",
    "    return ast.literal_eval(diet)"
   ]
  },
  {
   "cell_type": "code",
   "execution_count": 27,
   "id": "b98bf836c30eae3",
   "metadata": {
    "ExecuteTime": {
     "end_time": "2024-06-30T16:04:21.408445Z",
     "start_time": "2024-06-30T16:04:21.401329Z"
    }
   },
   "outputs": [],
   "source": [
    "def print_precautions(p):\n",
    "    c = 1\n",
    "    for j in range(len(p)):\n",
    "        if  p[j] is not None:\n",
    "            print(f\"Precaution {c}. -> {p[j].title()}.\")\n",
    "            c += 1"
   ]
  },
  {
   "cell_type": "code",
   "execution_count": 28,
   "id": "477d59ddea24175e",
   "metadata": {
    "ExecuteTime": {
     "end_time": "2024-06-30T16:04:21.415523Z",
     "start_time": "2024-06-30T16:04:21.408445Z"
    }
   },
   "outputs": [],
   "source": [
    "def print_workout(w):\n",
    "    c = 1\n",
    "    for j in range(len(w)):\n",
    "        print(f\"Workout {c}. -> {w[j].title()}.\")\n",
    "        c += 1"
   ]
  },
  {
   "cell_type": "code",
   "execution_count": 29,
   "id": "2dbf9fd383136d5d",
   "metadata": {
    "ExecuteTime": {
     "end_time": "2024-06-30T16:04:22.246239Z",
     "start_time": "2024-06-30T16:04:21.415523Z"
    }
   },
   "outputs": [],
   "source": [
    "# test-3\n",
    "symptoms = get_user_input()\n",
    "disease = get_predicted_values(symptoms)\n",
    "print(disease)\n",
    "description = get_desc(disease)\n",
    "precautions = get_precautions(disease)\n",
    "workout = get_workout(disease)\n",
    "diets = get_diet(disease)\n",
    "medications = get_medication(disease)\n",
    "\n",
    "# ========================================== printing the data here ==============================================\n",
    "print(f\"Predicted Disease -> {disease}\")\n",
    "print(f\"Description -> {description}\")\n",
    "print_precautions(precautions)\n",
    "print_workout(workout)\n",
    "print(\"Diets ->\", diets)\n",
    "print(\"Medications ->\", medications)"
   ]
  },
  {
   "cell_type": "code",
   "execution_count": 30,
   "id": "c1be7b37b7b1aa8",
   "metadata": {
    "ExecuteTime": {
     "end_time": "2024-06-30T16:04:22.258080Z",
     "start_time": "2024-06-30T16:04:22.247771Z"
    }
   },
   "outputs": [],
   "source": [
    "def get_recommendations(disease_value):\n",
    "    desc = desc_data[desc_data[\"Disease\"] == disease_value][\"Description\"].values[0]\n",
    "    prec = precautions_data[precautions_data['Disease'] == disease_value].values[0][2:]\n",
    "    med = medication_data[medication_data['Disease'] == disease_value]['Medication'].values[0]\n",
    "    work = workout_data[workout_data['disease'] == disease_value]['workout'].values\n",
    "    diet = diets_data[diets_data['Disease'] == disease_value]['Diet'].values[0]\n",
    "    \n",
    "    return desc, med, work, diet, prec"
   ]
  },
  {
   "cell_type": "code",
   "execution_count": null,
   "id": "f47a4e6bc7217dc9",
   "metadata": {
    "ExecuteTime": {
     "end_time": "2024-06-30T16:04:23.477588Z",
     "start_time": "2024-06-30T16:04:22.258080Z"
    }
   },
   "outputs": [],
   "source": [
    "# test-3\n",
    "symptoms = get_user_input()\n",
    "disease = get_predicted_values(symptoms)\n",
    "print(disease)\n",
    "description = get_desc(disease)\n",
    "precautions = get_precautions(disease)\n",
    "workout = get_workout(disease)\n",
    "diets = get_diet(disease)\n",
    "medications = get_medication(disease)\n",
    "\n",
    "# ========================================== printing the data here ==============================================\n",
    "print(f\"Predicted Disease -> {disease}\")\n",
    "print(f\"Description -> {description}\")\n",
    "print_precautions(precautions)\n",
    "print_workout(workout)\n",
    "print(\"Diets ->\", diets)\n",
    "print(\"Medications ->\", medications)"
   ]
  }
 ],
 "metadata": {
  "kernelspec": {
   "display_name": "Python 3",
   "language": "python",
   "name": "python3"
  },
  "language_info": {
   "codemirror_mode": {
    "name": "ipython",
    "version": 2
   },
   "file_extension": ".py",
   "mimetype": "text/x-python",
   "name": "python",
   "nbconvert_exporter": "python",
   "pygments_lexer": "ipython2",
   "version": "2.7.6"
  }
 },
 "nbformat": 4,
 "nbformat_minor": 5
}
