{
 "cells": [
  {
   "cell_type": "code",
   "execution_count": 1,
   "id": "9164874eb37586c1",
   "metadata": {
    "ExecuteTime": {
     "end_time": "2024-06-29T04:22:27.099076Z",
     "start_time": "2024-06-29T04:22:26.217228Z"
    }
   },
   "outputs": [],
   "source": [
    "import pandas as pd\n",
    "import numpy as np\n",
    "import warnings\n",
    "warnings.filterwarnings('ignore')"
   ]
  },
  {
   "cell_type": "code",
   "execution_count": 2,
   "id": "64c82d27c4384f4f",
   "metadata": {
    "ExecuteTime": {
     "end_time": "2024-06-29T04:22:27.216119Z",
     "start_time": "2024-06-29T04:22:27.103172Z"
    }
   },
   "outputs": [],
   "source": [
    "data = pd.read_csv(r\"Data\\\\Training.csv\")\n",
    "data.head()"
   ]
  },
  {
   "cell_type": "code",
   "execution_count": 3,
   "id": "c36183cd00543d72",
   "metadata": {
    "ExecuteTime": {
     "end_time": "2024-06-29T04:22:27.226592Z",
     "start_time": "2024-06-29T04:22:27.216119Z"
    }
   },
   "outputs": [],
   "source": [
    "row, col = data.shape[0], data.shape[1]\n",
    "print(f\"Row: {row}, col: {col}\")"
   ]
  },
  {
   "cell_type": "code",
   "execution_count": 4,
   "id": "581ba1e94d0b3c5a",
   "metadata": {
    "ExecuteTime": {
     "end_time": "2024-06-29T04:22:27.248163Z",
     "start_time": "2024-06-29T04:22:27.229177Z"
    }
   },
   "outputs": [],
   "source": [
    "# data is already processed in the dataset.\n",
    "data.isnull().sum()"
   ]
  },
  {
   "cell_type": "code",
   "execution_count": 5,
   "id": "b322b4d6e29522df",
   "metadata": {
    "ExecuteTime": {
     "end_time": "2024-06-29T04:22:27.260356Z",
     "start_time": "2024-06-29T04:22:27.248163Z"
    }
   },
   "outputs": [],
   "source": [
    "print(data['prognosis'].unique())"
   ]
  },
  {
   "cell_type": "code",
   "execution_count": 6,
   "id": "6670504dc27549b3",
   "metadata": {
    "ExecuteTime": {
     "end_time": "2024-06-29T04:22:27.274715Z",
     "start_time": "2024-06-29T04:22:27.260356Z"
    }
   },
   "outputs": [],
   "source": [
    "prognosis_count = len(data['prognosis'].unique())\n",
    "print(f\"There are {prognosis_count} unique diseases for classification.\")"
   ]
  },
  {
   "cell_type": "code",
   "execution_count": 7,
   "id": "41f8f99fbe137ae3",
   "metadata": {
    "ExecuteTime": {
     "end_time": "2024-06-29T04:22:28.752839Z",
     "start_time": "2024-06-29T04:22:27.276253Z"
    }
   },
   "outputs": [],
   "source": [
    "from sklearn.model_selection import train_test_split\n",
    "from sklearn.preprocessing import LabelEncoder"
   ]
  },
  {
   "cell_type": "code",
   "execution_count": 8,
   "id": "8332bb7aca709d11",
   "metadata": {
    "ExecuteTime": {
     "end_time": "2024-06-29T04:22:28.770289Z",
     "start_time": "2024-06-29T04:22:28.752839Z"
    }
   },
   "outputs": [],
   "source": [
    "X = data.drop('prognosis', axis=1)\n",
    "y = data['prognosis']"
   ]
  },
  {
   "cell_type": "code",
   "execution_count": 9,
   "id": "7389ee2f128f47a5",
   "metadata": {
    "ExecuteTime": {
     "end_time": "2024-06-29T04:22:28.806097Z",
     "start_time": "2024-06-29T04:22:28.770289Z"
    }
   },
   "outputs": [],
   "source": [
    "X"
   ]
  },
  {
   "cell_type": "code",
   "execution_count": 10,
   "id": "51949dd45beb7509",
   "metadata": {
    "ExecuteTime": {
     "end_time": "2024-06-29T04:22:28.816046Z",
     "start_time": "2024-06-29T04:22:28.806097Z"
    }
   },
   "outputs": [],
   "source": [
    "y # before label encoding"
   ]
  },
  {
   "cell_type": "code",
   "execution_count": 11,
   "id": "e4ab750d4a119224",
   "metadata": {
    "ExecuteTime": {
     "end_time": "2024-06-29T04:22:28.822505Z",
     "start_time": "2024-06-29T04:22:28.816046Z"
    }
   },
   "outputs": [],
   "source": [
    "# encoding the output variable to make it understandable for the machine learning model.\n",
    "label_encoder = LabelEncoder()\n",
    "Y = label_encoder.fit_transform(y)"
   ]
  },
  {
   "cell_type": "code",
   "execution_count": 12,
   "id": "635310f1dce409e2",
   "metadata": {
    "ExecuteTime": {
     "end_time": "2024-06-29T04:22:28.830119Z",
     "start_time": "2024-06-29T04:22:28.822505Z"
    }
   },
   "outputs": [],
   "source": [
    "Y # after label encoding"
   ]
  },
  {
   "cell_type": "code",
   "execution_count": 13,
   "id": "c05479407db2436d",
   "metadata": {
    "ExecuteTime": {
     "end_time": "2024-06-29T04:22:28.845814Z",
     "start_time": "2024-06-29T04:22:28.831147Z"
    }
   },
   "outputs": [],
   "source": [
    "X_train, X_test, Y_train, Y_test = train_test_split(X, Y, test_size=0.3, random_state=20)"
   ]
  },
  {
   "cell_type": "code",
   "execution_count": 14,
   "id": "6b07d59aa0feab1e",
   "metadata": {
    "ExecuteTime": {
     "end_time": "2024-06-29T04:22:28.853182Z",
     "start_time": "2024-06-29T04:22:28.846900Z"
    }
   },
   "outputs": [],
   "source": [
    "X_train.shape, X_test.shape, Y_train.shape, Y_test.shape"
   ]
  },
  {
   "cell_type": "markdown",
   "id": "b26fe22f024c8405",
   "metadata": {},
   "source": [
    "### _Training using Top Models_"
   ]
  },
  {
   "cell_type": "code",
   "execution_count": 15,
   "id": "f4e6b41da68b3f0e",
   "metadata": {
    "ExecuteTime": {
     "end_time": "2024-06-29T04:22:29.222816Z",
     "start_time": "2024-06-29T04:22:28.853182Z"
    }
   },
   "outputs": [],
   "source": [
    "from sklearn.datasets import make_classification\n",
    "from sklearn.svm import SVC\n",
    "from sklearn.ensemble import RandomForestClassifier, GradientBoostingClassifier\n",
    "from sklearn.neighbors import KNeighborsClassifier\n",
    "from sklearn.naive_bayes import MultinomialNB\n",
    "from sklearn.metrics import accuracy_score, confusion_matrix"
   ]
  },
  {
   "cell_type": "code",
   "execution_count": 16,
   "id": "bc08d3531c2dad11",
   "metadata": {
    "ExecuteTime": {
     "end_time": "2024-06-29T04:22:29.229199Z",
     "start_time": "2024-06-29T04:22:29.222816Z"
    }
   },
   "outputs": [],
   "source": [
    "# init the models objects here.\n",
    "SVC = SVC(kernel='linear')\n",
    "RF = RandomForestClassifier(n_estimators=100, random_state=42)\n",
    "GB = GradientBoostingClassifier(n_estimators=100, random_state=42)\n",
    "NB = MultinomialNB()\n",
    "KNN = KNeighborsClassifier(n_neighbors=5)"
   ]
  },
  {
   "cell_type": "code",
   "execution_count": 17,
   "id": "92c4327b59275aa6",
   "metadata": {
    "ExecuteTime": {
     "end_time": "2024-06-29T04:22:56.743643Z",
     "start_time": "2024-06-29T04:22:29.229199Z"
    }
   },
   "outputs": [],
   "source": [
    "models = {\n",
    "    \"Support Vector Classifier\": SVC,\n",
    "    \"Random Forest Classifier\": RF,\n",
    "    \"Gradient Boosting Classifier\": GB,\n",
    "    \"Naive Bayes Classifier\": NB,\n",
    "    \"K Nearest Neighbour\": KNN\n",
    "}\n",
    "\n",
    "for model_name, model in models.items():\n",
    "    # training the model here.\n",
    "    model.fit(X_train, Y_train)\n",
    "    # testing the model here.\n",
    "    score = model.score(X_test, Y_test)\n",
    "    # display the accuracy of the model here.\n",
    "    y_pred = model.predict(X_test)\n",
    "    accuracy = accuracy_score(Y_test, y_pred)\n",
    "    # display the confusion matrix here\n",
    "    cm = confusion_matrix(Y_test, y_pred)\n",
    "    # display the result here\n",
    "    print(f\"Model: {model_name}, Score: {score}, Accuracy: {accuracy}\")\n",
    "    print(f\"Confusion Matrix:\\n{np.array2string(cm, separator=\", \")}\\n\")"
   ]
  },
  {
   "cell_type": "markdown",
   "id": "c1e63b4e1c0a6c55",
   "metadata": {},
   "source": [
    "### _Prediction Test_"
   ]
  },
  {
   "cell_type": "code",
   "execution_count": 18,
   "id": "646da6e0c5527243",
   "metadata": {
    "ExecuteTime": {
     "end_time": "2024-06-29T04:22:56.883173Z",
     "start_time": "2024-06-29T04:22:56.745480Z"
    }
   },
   "outputs": [],
   "source": [
    "model_svc = models[\"Support Vector Classifier\"]\n",
    "model_svc.fit(X_train, Y_train)\n",
    "y_pred = model_svc.predict(X_test)\n",
    "accuracy = accuracy_score(Y_test, y_pred)\n",
    "cm = confusion_matrix(Y_test, y_pred)\n",
    "print(f\"Model Support Vector Classifier: {model_svc}\")\n",
    "print(f\"Accuracy: {round(accuracy*100)}%\")\n",
    "print(f\"Confusion Matrix:\\n{np.array2string(cm, separator=\", \")}\")"
   ]
  },
  {
   "cell_type": "markdown",
   "id": "578227d935be0308",
   "metadata": {},
   "source": [
    "### _Saving the Model here_"
   ]
  },
  {
   "cell_type": "code",
   "execution_count": 19,
   "id": "81aafe565b623e13",
   "metadata": {
    "ExecuteTime": {
     "end_time": "2024-06-29T04:22:56.890015Z",
     "start_time": "2024-06-29T04:22:56.883173Z"
    }
   },
   "outputs": [],
   "source": [
    "import pickle\n",
    "pickle.dump(model_svc, open('Model\\\\model.pkl', 'wb'))"
   ]
  },
  {
   "cell_type": "code",
   "execution_count": 20,
   "id": "fd8ac6ced3ed9d44",
   "metadata": {
    "ExecuteTime": {
     "end_time": "2024-06-29T04:22:56.896716Z",
     "start_time": "2024-06-29T04:22:56.890015Z"
    }
   },
   "outputs": [],
   "source": [
    "# test - 1\n",
    "test_data_1 = X_test.iloc[0].values.reshape(1,-1) # taking out 1 row for testing\n",
    "print(test_data_1)"
   ]
  },
  {
   "cell_type": "code",
   "execution_count": 21,
   "id": "b58c5e4073e406b8",
   "metadata": {
    "ExecuteTime": {
     "end_time": "2024-06-29T04:22:56.905703Z",
     "start_time": "2024-06-29T04:22:56.896716Z"
    }
   },
   "outputs": [],
   "source": [
    "model = pickle.load(open('Model\\\\model.pkl', 'rb'))\n",
    "pred = model.predict(test_data_1)\n",
    "print(\"Model Prediction\", pred[0]) # model predicted output\n",
    "print(\"Actual Output\", Y_test[[0]][0]) # actual output"
   ]
  },
  {
   "cell_type": "code",
   "execution_count": 22,
   "id": "9bbeaeaba7bd1ffa",
   "metadata": {
    "ExecuteTime": {
     "end_time": "2024-06-29T04:22:56.911288Z",
     "start_time": "2024-06-29T04:22:56.905703Z"
    }
   },
   "outputs": [],
   "source": [
    "# test - 2\n",
    "test_data_2 = X_test.iloc[69].values.reshape(1,-1) # taking out 1 row for testing\n",
    "print(test_data_2)"
   ]
  },
  {
   "cell_type": "code",
   "execution_count": 23,
   "id": "cf7e9242997e42cd",
   "metadata": {
    "ExecuteTime": {
     "end_time": "2024-06-29T04:22:56.917258Z",
     "start_time": "2024-06-29T04:22:56.911288Z"
    }
   },
   "outputs": [],
   "source": [
    "pred = model.predict(test_data_2)\n",
    "print(\"Model Prediction\", pred[0])\n",
    "print(\"Actual Output\", Y_test[[69]][0])"
   ]
  }
 ],
 "metadata": {
  "kernelspec": {
   "display_name": "Python 3",
   "language": "python",
   "name": "python3"
  },
  "language_info": {
   "codemirror_mode": {
    "name": "ipython",
    "version": 2
   },
   "file_extension": ".py",
   "mimetype": "text/x-python",
   "name": "python",
   "nbconvert_exporter": "python",
   "pygments_lexer": "ipython2",
   "version": "2.7.6"
  }
 },
 "nbformat": 4,
 "nbformat_minor": 5
}
